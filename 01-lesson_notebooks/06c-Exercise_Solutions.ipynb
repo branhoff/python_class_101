{
 "cells": [
  {
   "cell_type": "markdown",
   "metadata": {},
   "source": [
    "# Exercise Solutions"
   ]
  },
  {
   "cell_type": "markdown",
   "metadata": {},
   "source": [
    "## String Manipulation"
   ]
  },
  {
   "attachments": {},
   "cell_type": "markdown",
   "metadata": {},
   "source": [
    "1. Write a function called `last_char` that takes a string parameter and returns the last letter of that string."
   ]
  },
  {
   "cell_type": "code",
   "execution_count": null,
   "metadata": {},
   "outputs": [],
   "source": [
    "def last_char(s: str) -> str:\n",
    "    return s[-1]"
   ]
  },
  {
   "attachments": {},
   "cell_type": "markdown",
   "metadata": {},
   "source": [
    "2. Write a function called `midstring` that takes a string parameter and returns a copy of that string minus its first and last letters. If the string passed in has only has 1 or 2 letters, the function should return the empty string `\"\"`."
   ]
  },
  {
   "cell_type": "code",
   "execution_count": null,
   "metadata": {},
   "outputs": [],
   "source": [
    "def midstring(s: str) -> str:\n",
    "    return s[1:-1]"
   ]
  },
  {
   "attachments": {},
   "cell_type": "markdown",
   "metadata": {},
   "source": [
    "3. Write a function called `sort_two_strings` that takes two string parameters and returns a single string of both of them in dictionary order, ignoring case. For example, if the strings `\"aardvark\"` and `\"Zebra\"` are passed, it should return `\"aardvark Zebra\"`."
   ]
  },
  {
   "cell_type": "code",
   "execution_count": null,
   "metadata": {},
   "outputs": [],
   "source": [
    "def sort_two_strings(s1: str, s2: str) -> str:\n",
    "    if s1.lower() < s2.lower():\n",
    "        return s1+\" \"+s2\n",
    "    else:\n",
    "        return s2+\" \"+s1"
   ]
  },
  {
   "attachments": {},
   "cell_type": "markdown",
   "metadata": {},
   "source": [
    "4. A palindrome is a string that reads the same forward or backward. Write a function called `is_palindrome` that takes a string parameter and returns `True` if that string is a palindrome, but returns `False` otherwise."
   ]
  },
  {
   "cell_type": "code",
   "execution_count": null,
   "metadata": {},
   "outputs": [],
   "source": [
    "def is_palindrome(s: str) -> str:\n",
    "    return s[::-1] == s"
   ]
  },
  {
   "cell_type": "markdown",
   "metadata": {},
   "source": [
    "## Lists"
   ]
  },
  {
   "attachments": {},
   "cell_type": "markdown",
   "metadata": {},
   "source": [
    "1. Write a function named `every_other` that takes as a parameter a list and returns a list that only contains every other element starting with the first one. For example, if the original list is `[7, \"joe\", \"apple\", 9.81, False]`, then the new list should be `[7, \"apple\", False]`. Use slicing."
   ]
  },
  {
   "cell_type": "code",
   "execution_count": null,
   "metadata": {},
   "outputs": [],
   "source": [
    "def every_other(mixed_list: list[object]):\n",
    "    return mixed_list[::2]"
   ]
  },
  {
   "attachments": {},
   "cell_type": "markdown",
   "metadata": {},
   "source": [
    "2. Write a function named `array_sum` that takes as a parameter a list of strings and returns the total number of characters in all the strings."
   ]
  },
  {
   "cell_type": "code",
   "execution_count": null,
   "metadata": {},
   "outputs": [],
   "source": [
    "def array_sum(word_list: list[str]) -> int:\n",
    "    count: int = 0\n",
    "    word: str\n",
    "    ch: str\n",
    "    for word in word_list:\n",
    "        for ch in word:\n",
    "            count += 1\n",
    "    return count"
   ]
  },
  {
   "attachments": {},
   "cell_type": "markdown",
   "metadata": {},
   "source": [
    "3. Write a function named `rev_string_list` that takes as a parameter a list of strings and returns a list that contains the reverse of each of those strings. **Use a list comprehension**."
   ]
  },
  {
   "cell_type": "code",
   "execution_count": null,
   "metadata": {},
   "outputs": [
    {
     "data": {
      "text/plain": [
       "['eno', 'owt', 'eerht']"
      ]
     },
     "execution_count": 2,
     "metadata": {},
     "output_type": "execute_result"
    }
   ],
   "source": [
    "def rev_string_list(string_list: list[str]) -> list[str]:\n",
    "    return [s[::-1] for s in string_list]"
   ]
  },
  {
   "attachments": {},
   "cell_type": "markdown",
   "metadata": {},
   "source": [
    "4. Write a function named `contain_string` that takes as a parameter a list of strings and the target string, and returns a list of the strings from the original list that contain the target string. Use a list comprehension.  As an example, if the function call is `contain_string([\"cats\", \"tacks\", \"scat\", \"stack\"], \"cat\")`, then the return value should be `[\"cats\", \"scat\"]`, because `\"cats\"` and `\"scat\"` both contain `\"cat\"`."
   ]
  },
  {
   "cell_type": "code",
   "execution_count": null,
   "metadata": {},
   "outputs": [],
   "source": [
    "def contain_string(string_list: list[str], target_string: list[str]) -> list[str]:\n",
    "    return [s for s in string_list if target_string in s]\n",
    "\n",
    "contain_string(['cats', 'tacks', 'scat', 'stack'], 'cat')"
   ]
  },
  {
   "cell_type": "code",
   "execution_count": null,
   "metadata": {},
   "outputs": [],
   "source": []
  }
 ],
 "metadata": {
  "kernelspec": {
   "display_name": "Python 3",
   "language": "python",
   "name": "python3"
  },
  "language_info": {
   "codemirror_mode": {
    "name": "ipython",
    "version": 3
   },
   "file_extension": ".py",
   "mimetype": "text/x-python",
   "name": "python",
   "nbconvert_exporter": "python",
   "pygments_lexer": "ipython3",
   "version": "3.12.6"
  },
  "vscode": {
   "interpreter": {
    "hash": "e9e699164e4a322cc4d7e5a175ae888281c7a6a570ea3d8a2c02e29901df6b06"
   }
  }
 },
 "nbformat": 4,
 "nbformat_minor": 4
}
